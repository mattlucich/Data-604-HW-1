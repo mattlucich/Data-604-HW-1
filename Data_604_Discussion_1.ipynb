{
  "nbformat": 4,
  "nbformat_minor": 0,
  "metadata": {
    "colab": {
      "name": "Data_604_Discussion_1.ipynb",
      "provenance": []
    },
    "kernelspec": {
      "name": "python3",
      "display_name": "Python 3"
    },
    "language_info": {
      "name": "python"
    }
  },
  "cells": [
    {
      "cell_type": "code",
      "metadata": {
        "colab": {
          "base_uri": "https://localhost:8080/"
        },
        "id": "RQd9Ot6gUDSX",
        "outputId": "a8644a7e-2c13-4cf2-f433-b384fe302904"
      },
      "source": [
        "from os.path import basename, exists\n",
        "\n",
        "def download(url):\n",
        "    filename = basename(url)\n",
        "    if not exists(filename):\n",
        "        from urllib.request import urlretrieve\n",
        "        local, _ = urlretrieve(url, filename)\n",
        "        print('Downloaded ' + local)\n",
        "    \n",
        "download('https://raw.githubusercontent.com/AllenDowney/' +\n",
        "         'ModSimPy/master/modsim.py')"
      ],
      "execution_count": 8,
      "outputs": [
        {
          "output_type": "stream",
          "text": [
            "Downloaded modsim.py\n"
          ],
          "name": "stdout"
        }
      ]
    },
    {
      "cell_type": "code",
      "metadata": {
        "id": "1DBGJyOUQWk6"
      },
      "source": [
        "import matplotlib.pyplot as plt\n",
        "from modsim import *"
      ],
      "execution_count": 19,
      "outputs": []
    },
    {
      "cell_type": "code",
      "metadata": {
        "id": "41sTt-KtQZNj"
      },
      "source": [
        "def sim_flips(num_flips, probability=0.5):\n",
        "  \"\"\"\n",
        "  Runs coin flip simulations\n",
        "  \n",
        "  Args:\n",
        "    num_flips - Number of flip simulations to perform\n",
        "    probability - The probability of heads. Defaults to fair coin (i.e. 0.5)\n",
        "\n",
        "  Returns:\n",
        "    Number of heads\n",
        "    List of boolean flip results. True indicates heads.\n",
        "  \"\"\"\n",
        "  results = [flip(probability) for i in range(num_flips)]\n",
        "  return sum(results), results\n",
        "\n",
        "num_heads, results = sim_flips(1000, 0.7)"
      ],
      "execution_count": 45,
      "outputs": []
    },
    {
      "cell_type": "code",
      "metadata": {
        "colab": {
          "base_uri": "https://localhost:8080/"
        },
        "id": "WFIf7IrSWSsJ",
        "outputId": "5b6711f2-24f8-439e-8d7a-08d04980f23a"
      },
      "source": [
        "print(\"Number of heads: \", num_heads)\n",
        "print(\"Number of tails: \", 1000 - num_heads)"
      ],
      "execution_count": 46,
      "outputs": [
        {
          "output_type": "stream",
          "text": [
            "Number of heads:  703\n",
            "Number of tails:  297\n"
          ],
          "name": "stdout"
        }
      ]
    },
    {
      "cell_type": "code",
      "metadata": {
        "colab": {
          "base_uri": "https://localhost:8080/",
          "height": 341
        },
        "id": "hTWXtiomWVgV",
        "outputId": "4163a0b6-4cae-46e6-9278-5b2869b378d6"
      },
      "source": [
        "# Plot number of heads vs number of tails\n",
        "fig = plt.figure()\n",
        "ax = fig.add_axes([0,0,1,1])\n",
        "outcomes = ['Heads', 'Tails']\n",
        "num_outcomes = [num_heads, (1000 - num_heads)]\n",
        "ax.bar(outcomes, num_outcomes)\n",
        "plt.show()"
      ],
      "execution_count": 47,
      "outputs": [
        {
          "output_type": "display_data",
          "data": {
            "image/png": "[encoded data removed]",
            "text/plain": [
              "<Figure size 432x288 with 1 Axes>"
            ]
          },
          "metadata": {
            "tags": []
          }
        }
      ]
    }
  ]
}